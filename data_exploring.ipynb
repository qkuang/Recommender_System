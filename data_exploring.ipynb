{
 "cells": [
  {
   "cell_type": "code",
   "execution_count": 3,
   "metadata": {},
   "outputs": [],
   "source": [
    "import requests\n",
    "import time\n",
    "import json\n",
    "import os\n",
    "import yaml\n",
    "import pandas as pd\n",
    "from tqdm.auto import tqdm\n",
    "from datetime import datetime\n",
    "from sqlalchemy import create_engine\n",
    "from sqlalchemy.types import Integer\n",
    "from matplotlib import pyplot as plt\n",
    "\n",
    "config = yaml.safe_load(open('config.yaml'))\n",
    "db_username = config['mysql']['username']\n",
    "db_password = config['mysql']['password']\n",
    "db_endpoint = config['mysql']['endpoint']\n",
    "db_database = config['mysql']['database']\n",
    "engine = create_engine('mysql+pymysql://{}:{}@{}/{}?charset=utf8mb4'.format(db_username, db_password, db_endpoint, db_database))\n"
   ]
  },
  {
   "cell_type": "code",
   "execution_count": 7,
   "metadata": {},
   "outputs": [],
   "source": [
    "price_distribution = pd.read_sql_query(\n",
    "        '''\n",
    "SELECT distinct initial_price, PERCENT_RANK() OVER (order by initial_price) as percentage FROM steam.steam_app_details \n",
    "where initial_price is not null\n",
    "and currency = 'USD'\n",
    ";\n",
    "        ''', engine)"
   ]
  },
  {
   "cell_type": "code",
   "execution_count": 12,
   "metadata": {},
   "outputs": [
    {
     "data": {
      "text/plain": [
       "[<matplotlib.lines.Line2D at 0x1fdce605c08>]"
      ]
     },
     "execution_count": 12,
     "metadata": {},
     "output_type": "execute_result"
    },
    {
     "data": {
      "image/png": "[encoded data removed]",
      "text/plain": [
       "<Figure size 432x288 with 1 Axes>"
      ]
     },
     "metadata": {
      "needs_background": "light"
     },
     "output_type": "display_data"
    }
   ],
   "source": [
    "price_distribution_plot = price_distribution.loc[(price_distribution.initial_price < 80)]\n",
    "plt.plot(price_distribution_plot['initial_price'], price_distribution_plot['percentage'])"
   ]
  },
  {
   "cell_type": "code",
   "execution_count": 13,
   "metadata": {},
   "outputs": [],
   "source": [
    "cat_distribution = pd.read_sql_query(\n",
    "'''\n",
    "SELECT  result, count(*)\n",
    "  FROM  (\n",
    "        SELECT  SUBSTRING_INDEX(SUBSTRING_INDEX(categories, ',', a.letter + 1), ',', -1) result\n",
    "          FROM  steam.steam_app_details\n",
    "            INNER JOIN (SELECT 0 letter UNION ALL SELECT 1 UNION ALL SELECT 2 UNION ALL SELECT 3) a ON LENGTH(REPLACE(categories, ',' , '')) <= LENGTH(categories) - a.letter\n",
    "        ) a\n",
    "  GROUP BY result\n",
    "''', engine)"
   ]
  },
  {
   "cell_type": "code",
   "execution_count": 22,
   "metadata": {},
   "outputs": [
    {
     "data": {
      "image/png": "[encoded data removed]",
      "text/plain": [
       "<Figure size 432x288 with 1 Axes>"
      ]
     },
     "metadata": {},
     "output_type": "display_data"
    }
   ],
   "source": [
    "cat_distribution_plot = cat_distribution.nlargest(10, 'count(*)')\n",
    "patches,text1 = plt.pie(cat_distribution_plot['count(*)'], labels = cat_distribution_plot['result'])\n",
    "plt.show()"
   ]
  },
  {
   "cell_type": "code",
   "execution_count": 23,
   "metadata": {},
   "outputs": [],
   "source": [
    "populate_game = pd.read_sql_query(\n",
    "'''\n",
    "select a.name,c.custs\n",
    "from (\n",
    "SELECT app_id, count(distinct user_id) as custs from steam.steam_owned_games group by 1\n",
    ") c\n",
    "join steam.steam_app_details a on a.app_id = c.app_id\n",
    "''', engine)"
   ]
  },
  {
   "cell_type": "code",
   "execution_count": 24,
   "metadata": {},
   "outputs": [
    {
     "data": {
      "text/html": [
       "<div>\n",
       "<style scoped>\n",
       "    .dataframe tbody tr th:only-of-type {\n",
       "        vertical-align: middle;\n",
       "    }\n",
       "\n",
       "    .dataframe tbody tr th {\n",
       "        vertical-align: top;\n",
       "    }\n",
       "\n",
       "    .dataframe thead th {\n",
       "        text-align: right;\n",
       "    }\n",
       "</style>\n",
       "<table border=\"1\" class=\"dataframe\">\n",
       "  <thead>\n",
       "    <tr style=\"text-align: right;\">\n",
       "      <th></th>\n",
       "      <th>name</th>\n",
       "      <th>custs</th>\n",
       "    </tr>\n",
       "  </thead>\n",
       "  <tbody>\n",
       "    <tr>\n",
       "      <th>27</th>\n",
       "      <td>Counter-Strike: Global Offensive</td>\n",
       "      <td>2490</td>\n",
       "    </tr>\n",
       "    <tr>\n",
       "      <th>1346</th>\n",
       "      <td>Unturned</td>\n",
       "      <td>2079</td>\n",
       "    </tr>\n",
       "    <tr>\n",
       "      <th>55</th>\n",
       "      <td>Garry's Mod</td>\n",
       "      <td>1978</td>\n",
       "    </tr>\n",
       "    <tr>\n",
       "      <th>21</th>\n",
       "      <td>Team Fortress 2</td>\n",
       "      <td>1910</td>\n",
       "    </tr>\n",
       "    <tr>\n",
       "      <th>24</th>\n",
       "      <td>Dota 2</td>\n",
       "      <td>1667</td>\n",
       "    </tr>\n",
       "    <tr>\n",
       "      <th>23</th>\n",
       "      <td>Left 4 Dead 2</td>\n",
       "      <td>1580</td>\n",
       "    </tr>\n",
       "    <tr>\n",
       "      <th>2860</th>\n",
       "      <td>Z1 Battle Royale</td>\n",
       "      <td>1332</td>\n",
       "    </tr>\n",
       "    <tr>\n",
       "      <th>1331</th>\n",
       "      <td>Trove</td>\n",
       "      <td>1146</td>\n",
       "    </tr>\n",
       "    <tr>\n",
       "      <th>25</th>\n",
       "      <td>Portal 2</td>\n",
       "      <td>1066</td>\n",
       "    </tr>\n",
       "    <tr>\n",
       "      <th>1518</th>\n",
       "      <td>Don't Starve Together</td>\n",
       "      <td>1020</td>\n",
       "    </tr>\n",
       "  </tbody>\n",
       "</table>\n",
       "</div>"
      ],
      "text/plain": [
       "                                  name  custs\n",
       "27    Counter-Strike: Global Offensive   2490\n",
       "1346                          Unturned   2079\n",
       "55                         Garry's Mod   1978\n",
       "21                     Team Fortress 2   1910\n",
       "24                              Dota 2   1667\n",
       "23                       Left 4 Dead 2   1580\n",
       "2860                  Z1 Battle Royale   1332\n",
       "1331                             Trove   1146\n",
       "25                            Portal 2   1066\n",
       "1518             Don't Starve Together   1020"
      ]
     },
     "execution_count": 24,
     "metadata": {},
     "output_type": "execute_result"
    }
   ],
   "source": [
    "populate_game.nlargest(10,'custs')"
   ]
  },
  {
   "cell_type": "code",
   "execution_count": 25,
   "metadata": {},
   "outputs": [],
   "source": [
    "longplay_game = pd.read_sql_query(\n",
    "'''\n",
    "select a.name,c.playtime\n",
    "from (\n",
    "SELECT app_id, sum(playtime_forever) as playtime from steam.steam_owned_games group by 1\n",
    ") c\n",
    "join steam.steam_app_details a on a.app_id = c.app_id\n",
    "''', engine)"
   ]
  },
  {
   "cell_type": "code",
   "execution_count": 26,
   "metadata": {},
   "outputs": [
    {
     "data": {
      "text/html": [
       "<div>\n",
       "<style scoped>\n",
       "    .dataframe tbody tr th:only-of-type {\n",
       "        vertical-align: middle;\n",
       "    }\n",
       "\n",
       "    .dataframe tbody tr th {\n",
       "        vertical-align: top;\n",
       "    }\n",
       "\n",
       "    .dataframe thead th {\n",
       "        text-align: right;\n",
       "    }\n",
       "</style>\n",
       "<table border=\"1\" class=\"dataframe\">\n",
       "  <thead>\n",
       "    <tr style=\"text-align: right;\">\n",
       "      <th></th>\n",
       "      <th>name</th>\n",
       "      <th>playtime</th>\n",
       "    </tr>\n",
       "  </thead>\n",
       "  <tbody>\n",
       "    <tr>\n",
       "      <th>27</th>\n",
       "      <td>Counter-Strike: Global Offensive</td>\n",
       "      <td>155821014.0</td>\n",
       "    </tr>\n",
       "    <tr>\n",
       "      <th>24</th>\n",
       "      <td>Dota 2</td>\n",
       "      <td>65338317.0</td>\n",
       "    </tr>\n",
       "    <tr>\n",
       "      <th>55</th>\n",
       "      <td>Garry's Mod</td>\n",
       "      <td>34116811.0</td>\n",
       "    </tr>\n",
       "    <tr>\n",
       "      <th>21</th>\n",
       "      <td>Team Fortress 2</td>\n",
       "      <td>13406012.0</td>\n",
       "    </tr>\n",
       "    <tr>\n",
       "      <th>1807</th>\n",
       "      <td>ARK: Survival Evolved</td>\n",
       "      <td>10055071.0</td>\n",
       "    </tr>\n",
       "    <tr>\n",
       "      <th>2294</th>\n",
       "      <td>Dead by Daylight</td>\n",
       "      <td>8473418.0</td>\n",
       "    </tr>\n",
       "    <tr>\n",
       "      <th>2860</th>\n",
       "      <td>Z1 Battle Royale</td>\n",
       "      <td>6930520.0</td>\n",
       "    </tr>\n",
       "    <tr>\n",
       "      <th>1346</th>\n",
       "      <td>Unturned</td>\n",
       "      <td>6120412.0</td>\n",
       "    </tr>\n",
       "    <tr>\n",
       "      <th>860</th>\n",
       "      <td>SteamVR</td>\n",
       "      <td>4783993.0</td>\n",
       "    </tr>\n",
       "    <tr>\n",
       "      <th>619</th>\n",
       "      <td>DayZ</td>\n",
       "      <td>4729263.0</td>\n",
       "    </tr>\n",
       "  </tbody>\n",
       "</table>\n",
       "</div>"
      ],
      "text/plain": [
       "                                  name     playtime\n",
       "27    Counter-Strike: Global Offensive  155821014.0\n",
       "24                              Dota 2   65338317.0\n",
       "55                         Garry's Mod   34116811.0\n",
       "21                     Team Fortress 2   13406012.0\n",
       "1807             ARK: Survival Evolved   10055071.0\n",
       "2294                  Dead by Daylight    8473418.0\n",
       "2860                  Z1 Battle Royale    6930520.0\n",
       "1346                          Unturned    6120412.0\n",
       "860                            SteamVR    4783993.0\n",
       "619                               DayZ    4729263.0"
      ]
     },
     "execution_count": 26,
     "metadata": {},
     "output_type": "execute_result"
    }
   ],
   "source": [
    "longplay_game.nlargest(10,'playtime')"
   ]
  },
  {
   "cell_type": "code",
   "execution_count": null,
   "metadata": {},
   "outputs": [],
   "source": []
  }
 ],
 "metadata": {
  "kernelspec": {
   "display_name": "Python 3",
   "language": "python",
   "name": "python3"
  },
  "language_info": {
   "codemirror_mode": {
    "name": "ipython",
    "version": 3
   },
   "file_extension": ".py",
   "mimetype": "text/x-python",
   "name": "python",
   "nbconvert_exporter": "python",
   "pygments_lexer": "ipython3",
   "version": "3.7.6"
  }
 },
 "nbformat": 4,
 "nbformat_minor": 4
}
